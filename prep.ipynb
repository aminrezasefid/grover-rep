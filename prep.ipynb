{
 "cells": [
  {
   "cell_type": "code",
   "execution_count": 1,
   "metadata": {},
   "outputs": [],
   "source": [
    "import pandas as pd"
   ]
  },
  {
   "cell_type": "code",
   "execution_count": 7,
   "metadata": {},
   "outputs": [],
   "source": [
    "datasets=[\"bbbp\"]\n",
    "dataset=\"bbbp\"\n",
    "gem_datasets=f\"C:/Users/aminr/Documents/Thesis/Baselines/GEM/chemrl_downstream_datasets/{dataset}/raw/{dataset}.csv\"\n",
    "gro_datasets=f\"exampledata/finetune/{dataset}.csv\"\n",
    "gro_df=pd.read_csv(gro_datasets)\n",
    "gem_df=pd.read_csv(gem_datasets)\n",
    "\n",
    "cols=gro_df.columns\n",
    "gem_df[cols].to_csv(gro_datasets,index=False)"
   ]
  },
  {
   "cell_type": "code",
   "execution_count": null,
   "metadata": {},
   "outputs": [],
   "source": []
  }
 ],
 "metadata": {
  "kernelspec": {
   "display_name": "gem2",
   "language": "python",
   "name": "python3"
  },
  "language_info": {
   "codemirror_mode": {
    "name": "ipython",
    "version": 3
   },
   "file_extension": ".py",
   "mimetype": "text/x-python",
   "name": "python",
   "nbconvert_exporter": "python",
   "pygments_lexer": "ipython3",
   "version": "3.7.10"
  },
  "orig_nbformat": 4
 },
 "nbformat": 4,
 "nbformat_minor": 2
}
